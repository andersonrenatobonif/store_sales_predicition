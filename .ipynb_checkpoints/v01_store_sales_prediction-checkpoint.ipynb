{
 "cells": [
  {
   "cell_type": "markdown",
   "id": "eff2f249",
   "metadata": {
    "hide_input": true
   },
   "source": [
    "# 0.0 Imports"
   ]
  },
  {
   "cell_type": "code",
   "execution_count": null,
   "id": "b9be6aa9",
   "metadata": {
    "ExecuteTime": {
     "end_time": "2023-03-29T12:00:07.916626Z",
     "start_time": "2023-03-29T12:00:07.903639Z"
    }
   },
   "outputs": [],
   "source": [
    "import pandas as pd\n",
    "import numpy as np\n",
    "import inflection\n",
    "import math\n",
    "import seaborn as sns\n",
    "import matplotlib.pyplot as plt\n",
    "import datetime\n",
    "from IPython.display import display, HTML"
   ]
  },
  {
   "cell_type": "code",
   "execution_count": null,
   "id": "d6906f5e",
   "metadata": {},
   "outputs": [],
   "source": []
  },
  {
   "cell_type": "markdown",
   "id": "a8c5d750",
   "metadata": {},
   "source": [
    "## 0.1 Helper Functions"
   ]
  },
  {
   "cell_type": "code",
   "execution_count": null,
   "id": "9e64e9d8",
   "metadata": {
    "ExecuteTime": {
     "end_time": "2023-03-29T12:00:07.947722Z",
     "start_time": "2023-03-29T12:00:07.919368Z"
    },
    "hide_input": false
   },
   "outputs": [],
   "source": [
    "\n",
    "display(HTML(\"<style>.container { width:80% !important; }</style>\"))"
   ]
  },
  {
   "cell_type": "code",
   "execution_count": null,
   "id": "6f29e310",
   "metadata": {},
   "outputs": [],
   "source": []
  },
  {
   "cell_type": "markdown",
   "id": "5d6e5dde",
   "metadata": {},
   "source": [
    "## 0.2 Loading Data"
   ]
  },
  {
   "cell_type": "code",
   "execution_count": null,
   "id": "d1b28bc8",
   "metadata": {
    "ExecuteTime": {
     "end_time": "2023-03-29T12:00:09.459670Z",
     "start_time": "2023-03-29T12:00:07.949717Z"
    }
   },
   "outputs": [],
   "source": [
    "df_sales_raw = pd.read_csv('data/train.csv', low_memory=False)\n",
    "df_store_raw = pd.read_csv('data/store.csv', low_memory=False)\n",
    "\n",
    "# merge\n",
    "\n",
    "df_raw = pd.merge(df_sales_raw, df_store_raw, how='left', on='Store')\n",
    "\n",
    "df_raw.sample(5)"
   ]
  },
  {
   "cell_type": "markdown",
   "id": "6a2ba7c2",
   "metadata": {},
   "source": [
    "# 1.0 Descrição dos Dados"
   ]
  },
  {
   "cell_type": "code",
   "execution_count": null,
   "id": "5549968e",
   "metadata": {
    "ExecuteTime": {
     "end_time": "2023-03-29T12:00:09.645868Z",
     "start_time": "2023-03-29T12:00:09.462444Z"
    }
   },
   "outputs": [],
   "source": [
    "df1 = df_raw.copy()"
   ]
  },
  {
   "cell_type": "markdown",
   "id": "f4bf9dd2",
   "metadata": {},
   "source": [
    "## 1.1 Rename Columns"
   ]
  },
  {
   "cell_type": "code",
   "execution_count": null,
   "id": "7ddfdf00",
   "metadata": {
    "ExecuteTime": {
     "end_time": "2023-03-29T12:00:09.661814Z",
     "start_time": "2023-03-29T12:00:09.646866Z"
    }
   },
   "outputs": [],
   "source": [
    "cols = ['Store', 'DayOfWeek', 'Date', 'Sales', 'Customers', 'Open', 'Promo','StateHoliday', 'SchoolHoliday', 'StoreType', \n",
    "        'Assortment','CompetitionDistance', 'CompetitionOpenSinceMonth','CompetitionOpenSinceYear', 'Promo2', \n",
    "        'Promo2SinceWeek','Promo2SinceYear', 'PromoInterval']\n",
    "\n",
    "\n",
    "snakecase = lambda x: inflection.underscore(x)\n",
    "\n",
    "cols_new = list(map(snakecase, cols))\n",
    "\n",
    "df1.columns = cols_new"
   ]
  },
  {
   "cell_type": "markdown",
   "id": "26d56cd3",
   "metadata": {},
   "source": [
    "## 1.2 Data Dimension"
   ]
  },
  {
   "cell_type": "code",
   "execution_count": null,
   "id": "96190bbd",
   "metadata": {
    "ExecuteTime": {
     "end_time": "2023-03-29T12:00:09.677096Z",
     "start_time": "2023-03-29T12:00:09.665717Z"
    }
   },
   "outputs": [],
   "source": [
    "df1.shape"
   ]
  },
  {
   "cell_type": "code",
   "execution_count": null,
   "id": "282d4068",
   "metadata": {},
   "outputs": [],
   "source": []
  },
  {
   "cell_type": "markdown",
   "id": "d1cdce97",
   "metadata": {},
   "source": [
    "## 1.3 Data Types"
   ]
  },
  {
   "cell_type": "code",
   "execution_count": null,
   "id": "d3aa2189",
   "metadata": {
    "ExecuteTime": {
     "end_time": "2023-03-29T12:00:10.392958Z",
     "start_time": "2023-03-29T12:00:09.679090Z"
    }
   },
   "outputs": [],
   "source": [
    "df1.info()"
   ]
  },
  {
   "cell_type": "code",
   "execution_count": null,
   "id": "8047a824",
   "metadata": {
    "ExecuteTime": {
     "end_time": "2023-03-29T12:00:10.593996Z",
     "start_time": "2023-03-29T12:00:10.395852Z"
    }
   },
   "outputs": [],
   "source": [
    "#alterando a colunda data de object para tipo data\n",
    "\n",
    "df1['date'] = pd.to_datetime(df1['date'])"
   ]
  },
  {
   "cell_type": "markdown",
   "id": "f7efbee6",
   "metadata": {},
   "source": [
    "## 1.4 Check NA"
   ]
  },
  {
   "cell_type": "code",
   "execution_count": null,
   "id": "1efe6dba",
   "metadata": {
    "ExecuteTime": {
     "end_time": "2023-03-29T12:00:11.169638Z",
     "start_time": "2023-03-29T12:00:10.599260Z"
    }
   },
   "outputs": [],
   "source": [
    "df1.isna().sum()"
   ]
  },
  {
   "cell_type": "code",
   "execution_count": null,
   "id": "f84e1163",
   "metadata": {},
   "outputs": [],
   "source": []
  },
  {
   "cell_type": "markdown",
   "id": "44f7bf07",
   "metadata": {},
   "source": [
    "## 1.5 Fillout NA"
   ]
  },
  {
   "cell_type": "code",
   "execution_count": null,
   "id": "77d51ab7",
   "metadata": {
    "ExecuteTime": {
     "end_time": "2023-03-29T12:01:25.121571Z",
     "start_time": "2023-03-29T12:00:11.176678Z"
    }
   },
   "outputs": [],
   "source": [
    "#competition_distance  \n",
    "\n",
    "df1['competition_distance'] = (df1['competition_distance'].\n",
    "                               apply(lambda x: 200000.0 if math.isnan(x) else (x)))\n",
    "\n",
    "\n",
    "#competition_open_since_month\n",
    "df1['competition_open_since_month'] = (df1.apply(lambda x: x['date'].\n",
    "                                                 month if math.isnan(x['competition_open_since_month'])\n",
    "                                                 else x['competition_open_since_month'], axis=1))\n",
    "\n",
    "#competition_open_since_year\n",
    "df1['competition_open_since_year'] = (df1.apply(lambda x: x['date'].\n",
    "                                                 year if math.isnan(x['competition_open_since_year'])\n",
    "                                                 else x['competition_open_since_year'], axis=1))\n",
    "\n",
    "#promo2_since_week\n",
    "df1['promo2_since_week'] = df1.apply(lambda x: x['date'].week if math.isnan(x['promo2_since_week'])\n",
    "                                               else x['promo2_since_week'], axis=1)\n",
    "\n",
    "\n",
    "#promo2_since_year\n",
    "df1['promo2_since_year'] = df1.apply(lambda x: x['date'].year if math.isnan(x['promo2_since_year'])\n",
    "                                               else x['promo2_since_year'], axis=1)\n",
    "\n",
    "#promo_interval\n",
    "\n",
    "month_map = { 1: 'Jan', 2: 'Feb',  3: 'Mar',  4: 'Apr',  5: 'May', 6: 'Jun',  \n",
    "             7: 'Jul',  8: 'Aug',  9: 'Sept',  10: 'Oct',  11: 'Nov',  12: 'Dec'}\n",
    "\n",
    "df1['promo_interval'].fillna(0, inplace=True)\n",
    "\n",
    "df1['month_map'] = df1['date'].dt.month.map(month_map)\n",
    "\n",
    "df1['is_promo'] = (df1[['promo_interval', 'month_map']].\n",
    "                   apply(lambda x: 0 if x['promo_interval'] == 0 \n",
    "                         else 1 if x['month_map'] in x['promo_interval'].split(',') \n",
    "                         else 0, axis=1))\n"
   ]
  },
  {
   "cell_type": "code",
   "execution_count": null,
   "id": "c488d5ba",
   "metadata": {
    "ExecuteTime": {
     "end_time": "2023-03-29T12:01:25.768903Z",
     "start_time": "2023-03-29T12:01:25.147118Z"
    }
   },
   "outputs": [],
   "source": [
    "df1.isna().sum()"
   ]
  },
  {
   "cell_type": "code",
   "execution_count": null,
   "id": "8b7f8319",
   "metadata": {},
   "outputs": [],
   "source": []
  },
  {
   "cell_type": "markdown",
   "id": "d37bc8b4",
   "metadata": {},
   "source": [
    "## 1.6 Change Types"
   ]
  },
  {
   "cell_type": "code",
   "execution_count": null,
   "id": "c65fc84f",
   "metadata": {
    "ExecuteTime": {
     "end_time": "2023-03-29T12:01:25.864564Z",
     "start_time": "2023-03-29T12:01:25.773387Z"
    }
   },
   "outputs": [],
   "source": [
    "df1['competition_open_since_month'] = df1['competition_open_since_month'].astype(int)\n",
    "df1['competition_open_since_year'] = df1['competition_open_since_year'].astype(int)\n",
    "df1['promo2_since_week'] = df1['promo2_since_week'].astype(int)\n",
    "df1['promo2_since_year'] = df1['promo2_since_year'].astype(int)"
   ]
  },
  {
   "cell_type": "code",
   "execution_count": null,
   "id": "8c9ca829",
   "metadata": {},
   "outputs": [],
   "source": []
  },
  {
   "cell_type": "markdown",
   "id": "c3c7050d",
   "metadata": {},
   "source": [
    "## 1.7 Descriptive Statistical"
   ]
  },
  {
   "cell_type": "code",
   "execution_count": null,
   "id": "5624961a",
   "metadata": {
    "ExecuteTime": {
     "end_time": "2023-03-29T12:01:26.143568Z",
     "start_time": "2023-03-29T12:01:25.867020Z"
    }
   },
   "outputs": [],
   "source": [
    "num_attributes = df1.select_dtypes(include = ['int32', 'int64', 'float64'])\n",
    "cat_attributes = df1.select_dtypes(exclude = ['int32', 'int64', 'datetime64[ns]', 'float64'])"
   ]
  },
  {
   "cell_type": "code",
   "execution_count": null,
   "id": "fc9e5b8a",
   "metadata": {},
   "outputs": [],
   "source": []
  },
  {
   "cell_type": "markdown",
   "id": "ab681d90",
   "metadata": {},
   "source": [
    "###  1.7.1 Numerical Attributes"
   ]
  },
  {
   "cell_type": "code",
   "execution_count": null,
   "id": "634417ab",
   "metadata": {
    "ExecuteTime": {
     "end_time": "2023-03-29T12:01:28.964312Z",
     "start_time": "2023-03-29T12:01:26.149385Z"
    }
   },
   "outputs": [],
   "source": [
    "# Central Tendency - mean, median\n",
    "ct1 = pd.DataFrame(num_attributes.apply(np.mean)).T\n",
    "ct2 = pd.DataFrame(num_attributes.apply(np.median)).T\n",
    "\n",
    "\n",
    "\n",
    "# Dispersion - std, min, max, ran, skew, curtusis\n",
    "d1 = pd.DataFrame(num_attributes.apply(np.std)).T\n",
    "d2 = pd.DataFrame(num_attributes.apply(min)).T\n",
    "d3 = pd.DataFrame(num_attributes.apply(max)).T\n",
    "d4 = pd.DataFrame(num_attributes.apply(lambda x: x.max() - x.min())).T\n",
    "d5 = pd.DataFrame(num_attributes.apply(lambda x: x.skew())).T\n",
    "d6 = pd.DataFrame(num_attributes.apply(lambda x: x.kurtosis())).T\n",
    "\n",
    "m = pd.concat( [d2, d3, d4, ct1, ct2, d1, d5, d6 ] ).T.reset_index()\n",
    "\n",
    "m.columns = ( [ 'features', 'min', 'max', 'range', 'mean', 'median', 'std', 'skew', 'kurtosis' ] )\n",
    "m"
   ]
  },
  {
   "cell_type": "code",
   "execution_count": null,
   "id": "13d57b44",
   "metadata": {},
   "outputs": [],
   "source": []
  },
  {
   "cell_type": "markdown",
   "id": "fd43ff47",
   "metadata": {},
   "source": [
    "### 1.7.1 Categorical Attributes"
   ]
  },
  {
   "cell_type": "code",
   "execution_count": null,
   "id": "741acc95",
   "metadata": {
    "ExecuteTime": {
     "end_time": "2023-03-29T12:01:29.149214Z",
     "start_time": "2023-03-29T12:01:28.969531Z"
    }
   },
   "outputs": [],
   "source": [
    "cat_attributes.apply(lambda x: x.unique().shape[0])"
   ]
  },
  {
   "cell_type": "code",
   "execution_count": null,
   "id": "1abf2b60",
   "metadata": {
    "ExecuteTime": {
     "end_time": "2023-03-29T12:01:30.124904Z",
     "start_time": "2023-03-29T12:01:29.155444Z"
    }
   },
   "outputs": [],
   "source": [
    "aux1 = df1[(df1['state_holiday'] != '0') & (df1['sales'] > 0)]\n",
    "\n",
    "plt.figure(figsize = (13, 7))\n",
    "plt.subplot(1, 3, 1)\n",
    "sns.boxplot(x='state_holiday', y='sales', data=aux1)\n",
    "\n",
    "plt.subplot(1, 3, 2)\n",
    "sns.boxplot(x='store_type', y='sales', data=aux1)\n",
    "\n",
    "plt.subplot(1, 3, 3)\n",
    "sns.boxplot(x='assortment', y='sales', data=aux1)"
   ]
  },
  {
   "cell_type": "code",
   "execution_count": null,
   "id": "74c9db55",
   "metadata": {},
   "outputs": [],
   "source": []
  },
  {
   "cell_type": "code",
   "execution_count": null,
   "id": "4589cd8b",
   "metadata": {},
   "outputs": [],
   "source": []
  },
  {
   "cell_type": "markdown",
   "id": "82cc3a66",
   "metadata": {},
   "source": [
    "# 2.0 Featuring Engineering"
   ]
  },
  {
   "cell_type": "code",
   "execution_count": null,
   "id": "5fbc21e7",
   "metadata": {
    "ExecuteTime": {
     "end_time": "2023-03-29T12:01:30.464326Z",
     "start_time": "2023-03-29T12:01:30.126898Z"
    },
    "hide_input": false
   },
   "outputs": [],
   "source": [
    "df2 = df1.copy()"
   ]
  },
  {
   "cell_type": "markdown",
   "id": "2dfb3175",
   "metadata": {},
   "source": [
    "## 2.1 Mapa Mental das Hipóteses\n"
   ]
  },
  {
   "cell_type": "code",
   "execution_count": null,
   "id": "69dd4e50",
   "metadata": {},
   "outputs": [],
   "source": []
  },
  {
   "cell_type": "code",
   "execution_count": null,
   "id": "2ca92540",
   "metadata": {},
   "outputs": [],
   "source": []
  },
  {
   "cell_type": "markdown",
   "id": "3701e097",
   "metadata": {},
   "source": [
    "## 2.1.1 Criação das Hipóteses"
   ]
  },
  {
   "cell_type": "code",
   "execution_count": null,
   "id": "4b54ddd9",
   "metadata": {},
   "outputs": [],
   "source": []
  },
  {
   "cell_type": "code",
   "execution_count": null,
   "id": "46d4b7cf",
   "metadata": {},
   "outputs": [],
   "source": []
  },
  {
   "cell_type": "code",
   "execution_count": null,
   "id": "c2d7dd7b",
   "metadata": {},
   "outputs": [],
   "source": []
  },
  {
   "cell_type": "markdown",
   "id": "2333aa79",
   "metadata": {},
   "source": [
    "## 2.2 Lista Final das Hipóteses"
   ]
  },
  {
   "cell_type": "code",
   "execution_count": null,
   "id": "a828ebd6",
   "metadata": {},
   "outputs": [],
   "source": []
  },
  {
   "cell_type": "markdown",
   "id": "6a856a9f",
   "metadata": {
    "ExecuteTime": {
     "end_time": "2023-03-28T10:38:02.582625Z",
     "start_time": "2023-03-28T10:38:02.570668Z"
    }
   },
   "source": [
    "### H1. Lojas com maior sortimentos deveriam vender mais\n",
    "### H2. Lojas com competidores mais próximos deveriam vender menos.\n",
    "### H3. Lojas com competidores à mais tempo deveriam vendem mais.\n",
    "### H4. Lojas com promoções ativas por mais tempo deveriam vender mais.\n",
    "### H5. Lojas com mais dias de promoção deveriam vender mais.\n",
    "### H6. Lojas com mais promoções consecutivas deveriam vender mais.\n",
    "### H7. Lojas abertas durante o feriado de Natal deveriam vender mais.\n",
    "### H8. Lojas deveriam vender mais ao longo dos anos.\n",
    "### H9. Lojas deveriam vender mais no segundo semestre do ano.\n",
    "### H10. Lojas deveriam vender mais depois do dia 10 de cada mês.\n",
    "### H11. Lojas deveriam vender menos aos finais de semana\n",
    "### H12. Lojas deveriam vender menos durante os feriados escolares\n"
   ]
  },
  {
   "cell_type": "code",
   "execution_count": null,
   "id": "f248fb33",
   "metadata": {},
   "outputs": [],
   "source": []
  },
  {
   "cell_type": "markdown",
   "id": "89e62173",
   "metadata": {
    "hide_input": true
   },
   "source": [
    "## 2.3 Feature Engineering"
   ]
  },
  {
   "cell_type": "code",
   "execution_count": null,
   "id": "07589dfe",
   "metadata": {
    "ExecuteTime": {
     "end_time": "2023-03-29T12:02:21.756416Z",
     "start_time": "2023-03-29T12:01:30.467241Z"
    },
    "code_folding": [],
    "hide_input": false
   },
   "outputs": [],
   "source": [
    "# year\n",
    "df2['year'] = df2['date'].dt.year\n",
    "\n",
    "# month\n",
    "df2['month'] = df2['date'].dt.month\n",
    "\n",
    "# day\n",
    "df2['day'] = df2['date'].dt.day\n",
    "\n",
    "# week of year\n",
    "df2['week_of_year'] = df2['date'].dt.isocalendar().week\n",
    "\n",
    "# year week\n",
    "df2['year_week'] = df2['date'].dt.strftime('%Y-%W')\n",
    "\n",
    "# competition since\n",
    "df2['competition_since'] = (df2.apply(lambda x: datetime.datetime\n",
    "                                      (year=x['competition_open_since_year'],\n",
    "                                       month=x['competition_open_since_month'],\n",
    "                                       day=1), axis=1))\n",
    "\n",
    "\n",
    "#df2['competition_time_month'] = (((df2['date'] - df2['competition_since']) / 30).apply(lambda x: x.days).astype(int))\n",
    "\n",
    "df2['competition_time_month'] = (df2['date'] - df2['competition_since']).apply(lambda x: (x.days)/30).astype(int)\n",
    "\n",
    "\n",
    "\n",
    "\n",
    "# promo since\n",
    "\n",
    "df2['promo_since'] = df2['promo2_since_year'].astype(str) + '-' + df2['promo2_since_week'].astype(str)\n",
    "df2['promo_since'] = (df2['promo_since'].\n",
    "                      apply(lambda x: datetime.datetime.\n",
    "                            strptime(x + '-1', '%Y-%W-%w') - datetime.timedelta(days=7)))\n",
    "\n",
    "\n",
    "df2['promo_time_week'] = df2['competition_time_month'] = (((df2['date'] - df2['promo_since']) / 7).\n",
    "                                 apply(lambda x: x.days).astype(int))\n",
    "\n",
    "\n",
    "\n",
    "# assortment\n",
    "\n",
    "\n",
    "\n",
    "df2['assortment'] = (df2['assortment'].\n",
    "                     apply(lambda x: 'basic' if x == 'a' else 'extra' if x == 'b' else 'extended'))\n",
    "\n",
    "# state_holiday\n",
    "\n",
    "df2['state_holiday'] = (df2['state_holiday'].\n",
    "                     apply(lambda x: 'public_holiday' if x == 'a' \n",
    "                           else 'easter_holiday' if x == 'b' else 'christmas' if x == 'c' \n",
    "                           else 'regular'))\n",
    "\n",
    "\n",
    "df2.head().T\n"
   ]
  },
  {
   "cell_type": "code",
   "execution_count": null,
   "id": "8f80f942",
   "metadata": {},
   "outputs": [],
   "source": []
  },
  {
   "cell_type": "code",
   "execution_count": null,
   "id": "716157ed",
   "metadata": {},
   "outputs": [],
   "source": []
  },
  {
   "cell_type": "markdown",
   "id": "4d7027c8",
   "metadata": {},
   "source": [
    "# 3.0 Filtragem de Variáveis"
   ]
  },
  {
   "cell_type": "code",
   "execution_count": null,
   "id": "6e9d2e03",
   "metadata": {
    "ExecuteTime": {
     "end_time": "2023-03-29T12:09:35.974052Z",
     "start_time": "2023-03-29T12:09:31.540732Z"
    }
   },
   "outputs": [],
   "source": [
    "df3 = df2.copy()"
   ]
  },
  {
   "cell_type": "code",
   "execution_count": null,
   "id": "40fd35b1",
   "metadata": {},
   "outputs": [],
   "source": []
  },
  {
   "cell_type": "markdown",
   "id": "1f54cf8e",
   "metadata": {},
   "source": [
    "## 3.1 Filtragem das Linhas"
   ]
  },
  {
   "cell_type": "code",
   "execution_count": null,
   "id": "70255e0e",
   "metadata": {
    "ExecuteTime": {
     "end_time": "2023-03-29T12:02:24.212428Z",
     "start_time": "2023-03-29T12:02:23.652774Z"
    }
   },
   "outputs": [],
   "source": [
    "df3 = df3[(df3['open'] != 0 ) & (df3['sales'] > 0 )]"
   ]
  },
  {
   "cell_type": "code",
   "execution_count": null,
   "id": "a71f893a",
   "metadata": {},
   "outputs": [],
   "source": []
  },
  {
   "cell_type": "code",
   "execution_count": null,
   "id": "0eb30946",
   "metadata": {},
   "outputs": [],
   "source": []
  },
  {
   "cell_type": "markdown",
   "id": "491e21dd",
   "metadata": {},
   "source": [
    "## 3.2 Seleção das Colunas"
   ]
  },
  {
   "cell_type": "code",
   "execution_count": null,
   "id": "a79d6da3",
   "metadata": {
    "ExecuteTime": {
     "end_time": "2023-03-29T12:02:24.460627Z",
     "start_time": "2023-03-29T12:02:24.217170Z"
    }
   },
   "outputs": [],
   "source": [
    "cols_drop = ['customers', 'open', 'promo_interval', 'month_map']\n",
    "df3 = df3.drop(cols_drop, axis=1)"
   ]
  },
  {
   "cell_type": "code",
   "execution_count": null,
   "id": "3bd428c8",
   "metadata": {},
   "outputs": [],
   "source": []
  },
  {
   "cell_type": "code",
   "execution_count": null,
   "id": "bcef6500",
   "metadata": {},
   "outputs": [],
   "source": []
  },
  {
   "cell_type": "markdown",
   "id": "523e0cf5",
   "metadata": {},
   "source": [
    "# 4.0 Análise Exploratória de Dados"
   ]
  },
  {
   "cell_type": "code",
   "execution_count": null,
   "id": "2cf4846b",
   "metadata": {
    "ExecuteTime": {
     "end_time": "2023-03-29T12:09:40.180787Z",
     "start_time": "2023-03-29T12:09:39.948497Z"
    }
   },
   "outputs": [],
   "source": [
    "df4 = df3.copy()"
   ]
  },
  {
   "cell_type": "markdown",
   "id": "0600852e",
   "metadata": {},
   "source": [
    "## 4.1 Análise Univariada"
   ]
  },
  {
   "cell_type": "code",
   "execution_count": null,
   "id": "060b6c00",
   "metadata": {},
   "outputs": [],
   "source": []
  },
  {
   "cell_type": "markdown",
   "id": "3090253a",
   "metadata": {},
   "source": [
    "### 4.1.1 Response Variable"
   ]
  },
  {
   "cell_type": "code",
   "execution_count": null,
   "id": "42d2667e",
   "metadata": {
    "ExecuteTime": {
     "end_time": "2023-03-29T12:02:26.930162Z",
     "start_time": "2023-03-29T12:02:24.604713Z"
    },
    "hide_input": true
   },
   "outputs": [],
   "source": [
    "sns.histplot( df4['sales'])\n",
    "sns.set(rc={'figure.figsize':(11.7,8.27)})"
   ]
  },
  {
   "cell_type": "code",
   "execution_count": null,
   "id": "a07d441a",
   "metadata": {},
   "outputs": [],
   "source": []
  },
  {
   "cell_type": "markdown",
   "id": "dfe5a767",
   "metadata": {},
   "source": [
    "### 4.1.2 Numerical Variable"
   ]
  },
  {
   "cell_type": "code",
   "execution_count": null,
   "id": "fb86d22d",
   "metadata": {
    "ExecuteTime": {
     "end_time": "2023-03-29T12:02:33.369130Z",
     "start_time": "2023-03-29T12:02:26.933555Z"
    },
    "hide_input": true
   },
   "outputs": [],
   "source": [
    "num_attributes.hist(bins=25, figsize=(22,11))\n",
    "plt.tight_layout();"
   ]
  },
  {
   "cell_type": "code",
   "execution_count": null,
   "id": "4e600c8f",
   "metadata": {},
   "outputs": [],
   "source": []
  },
  {
   "cell_type": "markdown",
   "id": "3bbd922e",
   "metadata": {},
   "source": [
    "### 4.1.3 Categorical Variable¶"
   ]
  },
  {
   "cell_type": "code",
   "execution_count": null,
   "id": "33dbdcaf",
   "metadata": {
    "ExecuteTime": {
     "end_time": "2023-03-29T12:02:33.400275Z",
     "start_time": "2023-03-29T12:02:33.373460Z"
    }
   },
   "outputs": [],
   "source": [
    "df4['assortment'].drop_duplicates()"
   ]
  },
  {
   "cell_type": "code",
   "execution_count": null,
   "id": "5fbda181",
   "metadata": {
    "ExecuteTime": {
     "end_time": "2023-03-29T12:02:53.386497Z",
     "start_time": "2023-03-29T12:02:33.404761Z"
    },
    "cell_style": "center",
    "hide_input": false
   },
   "outputs": [],
   "source": [
    "#state_holiday\n",
    "\n",
    "plt.subplot(3, 2, 1)\n",
    "aux4 = df4[df4['state_holiday'] != 'regular']\n",
    "sns.countplot( data = aux4, x='state_holiday' )\n",
    "sns.set(rc={'figure.figsize':(8.8,8.27)})\n",
    "\n",
    "plt.subplot(3, 2, 2)\n",
    "sns.kdeplot(df4[df4['state_holiday'] == 'public_holiday']['sales'], label='public_holiday', fill=True)\n",
    "sns.kdeplot(df4[df4['state_holiday'] == 'easter_holiday']['sales'], label='easter_holiday', fill=True)\n",
    "sns.kdeplot(df4[df4['state_holiday'] == 'christmas']['sales'], label='christmas', fill=True)\n",
    "sns.set(rc={'figure.figsize':(11.7,8.27)})\n",
    "\n",
    "\n",
    "\n",
    "#store_type\n",
    "\n",
    "plt.subplot(3, 2, 3)\n",
    "sns.countplot( data = df4, x='store_type' )\n",
    "sns.set(rc={'figure.figsize':(8.8,8.27)})\n",
    "\n",
    "plt.subplot(3, 2, 4)\n",
    "sns.kdeplot(df4[df4['store_type'] == 'a']['sales'], label='a', fill=True)\n",
    "sns.kdeplot(df4[df4['store_type'] == 'b']['sales'], label='b', fill=True)\n",
    "sns.kdeplot(df4[df4['store_type'] == 'c']['sales'], label='c', fill=True)\n",
    "sns.kdeplot(df4[df4['store_type'] == 'd']['sales'], label='d', fill=True)\n",
    "sns.set(rc={'figure.figsize':(11.7,8.27)})\n",
    "\n",
    "#assortment\n",
    "\n",
    "plt.subplot(3, 2, 5)\n",
    "sns.countplot( data = df4, x='assortment' )\n",
    "sns.set(rc={'figure.figsize':(8.8,8.27)})\n",
    "\n",
    "plt.subplot(3, 2, 6)\n",
    "sns.kdeplot(df4[df4['assortment'] == 'basic']['sales'], label='basic', fill=True)\n",
    "sns.kdeplot(df4[df4['assortment'] == 'extended']['sales'], label='extended', fill=True)\n",
    "sns.kdeplot(df4[df4['assortment'] == 'extra']['sales'], label='extra', fill=True)\n",
    "sns.set(rc={'figure.figsize':(11.7,8.27)})"
   ]
  },
  {
   "cell_type": "code",
   "execution_count": null,
   "id": "cd10925b",
   "metadata": {},
   "outputs": [],
   "source": []
  },
  {
   "cell_type": "markdown",
   "id": "feb1b4e1",
   "metadata": {
    "hide_input": true
   },
   "source": [
    "## 4.2 Análise Bivariada"
   ]
  },
  {
   "cell_type": "markdown",
   "id": "445465e5",
   "metadata": {},
   "source": [
    "### H1. Lojas com maior sortimentos deveriam vender mais\n",
    "\n",
    "- **FALSA** Lojas com maior sortimento vendem menos"
   ]
  },
  {
   "cell_type": "code",
   "execution_count": null,
   "id": "2098217d",
   "metadata": {
    "ExecuteTime": {
     "end_time": "2023-03-29T12:02:53.477106Z",
     "start_time": "2023-03-29T12:02:53.476117Z"
    },
    "hide_input": true
   },
   "outputs": [],
   "source": [
    "df_h1 = df4[['assortment', 'sales']].groupby('assortment').sum().reset_index()\n",
    "sns.barplot(x= 'assortment', y= 'sales', data = df_h1);\n",
    "\n",
    "df_h1_2 = df4[['year_week' ,'assortment', 'sales']].groupby(['assortment', 'year_week']).sum().reset_index()\n",
    "df_h1_2.pivot(index= 'year_week', columns= 'assortment' , values= 'sales' ).plot()\n",
    "\n",
    "\n"
   ]
  },
  {
   "cell_type": "code",
   "execution_count": null,
   "id": "935a8cb5",
   "metadata": {
    "ExecuteTime": {
     "end_time": "2023-03-29T12:02:53.478076Z",
     "start_time": "2023-03-29T12:02:53.478076Z"
    },
    "hide_input": true
   },
   "outputs": [],
   "source": [
    "df_h1_3 = df4[df4['assortment'] == 'extra'].reset_index()\n",
    "df_h1_3.pivot_table(index= 'year_week', columns= 'assortment' , values= 'sales' ).plot();"
   ]
  },
  {
   "cell_type": "code",
   "execution_count": null,
   "id": "39765a29",
   "metadata": {
    "ExecuteTime": {
     "end_time": "2023-03-29T12:03:46.880089Z",
     "start_time": "2023-03-29T12:03:46.203206Z"
    },
    "code_folding": []
   },
   "outputs": [],
   "source": [
    "h1 = df4[['assortment', 'sales']].groupby('assortment').sum().reset_index()\n",
    "sns.barplot(data = h1, x= 'assortment', y='sales');\n",
    "\n",
    " \n",
    "h1_2 = df4[['year_week', 'assortment', 'sales']].groupby(['year_week', 'assortment']).sum().reset_index()\n",
    "h1_2.pivot(index='year_week', columns='assortment', values='sales').plot();"
   ]
  },
  {
   "cell_type": "code",
   "execution_count": null,
   "id": "2f0d73fd",
   "metadata": {
    "ExecuteTime": {
     "end_time": "2023-03-29T12:02:53.481577Z",
     "start_time": "2023-03-29T12:02:53.481577Z"
    },
    "hide_input": true
   },
   "outputs": [],
   "source": [
    "h1_3 = df4[df4['assortment'] == 'extra']\n",
    "h1_3 = h1_3[['year_week', 'sales', 'assortment']].groupby(['year_week', 'assortment']).sum().reset_index()\n",
    "h1_3.pivot_table(index='year_week', columns='assortment', values='sales').plot();"
   ]
  },
  {
   "cell_type": "code",
   "execution_count": null,
   "id": "ad67b517",
   "metadata": {
    "ExecuteTime": {
     "end_time": "2023-03-29T12:05:15.121853Z",
     "start_time": "2023-03-29T12:05:14.785319Z"
    }
   },
   "outputs": [],
   "source": [
    "h1_3 = df4[df4['assortment'] == 'extra']\n",
    "h1_3 = h1_3[['year_week', 'assortment', 'sales']].groupby(['year_week', 'assortment']).sum().reset_index()\n",
    "h1_3.pivot(index='year_week', columns='assortment', values='sales').plot();"
   ]
  },
  {
   "cell_type": "code",
   "execution_count": null,
   "id": "2a1b118e",
   "metadata": {},
   "outputs": [],
   "source": []
  },
  {
   "cell_type": "markdown",
   "id": "f3708384",
   "metadata": {},
   "source": [
    "### H2. Lojas com competidores mais próximos deveriam vender menos.\n",
    "\n",
    "- **FALSA**: Lojas com competidores próximos vendem mais"
   ]
  },
  {
   "cell_type": "code",
   "execution_count": null,
   "id": "c940e781",
   "metadata": {
    "ExecuteTime": {
     "end_time": "2023-03-29T12:05:43.909849Z",
     "start_time": "2023-03-29T12:05:43.463917Z"
    },
    "hide_input": false
   },
   "outputs": [],
   "source": [
    "h2 = df4[['competition_distance', 'sales']].groupby('competition_distance').sum().reset_index()\n",
    "\n",
    "\n",
    "bins = list(np.arange(0, 20000, 1000))\n",
    "h2['competition_distance_binned'] = pd.cut(h2['competition_distance'], bins=bins) \n",
    "h2_2 = h2[['competition_distance_binned', 'sales']].groupby('competition_distance_binned').sum().reset_index()\n",
    "sns.barplot(x= 'competition_distance_binned', y='sales', data=h2_2)\n",
    "plt.xticks(rotation=60);"
   ]
  },
  {
   "cell_type": "code",
   "execution_count": null,
   "id": "d25c47fa",
   "metadata": {
    "ExecuteTime": {
     "end_time": "2023-03-29T12:05:48.125772Z",
     "start_time": "2023-03-29T12:05:47.842797Z"
    }
   },
   "outputs": [],
   "source": [
    "sns.scatterplot(x= 'competition_distance', y='sales', data=h2);"
   ]
  },
  {
   "cell_type": "code",
   "execution_count": null,
   "id": "87161e96",
   "metadata": {
    "ExecuteTime": {
     "end_time": "2023-03-29T12:05:51.709282Z",
     "start_time": "2023-03-29T12:05:51.474401Z"
    },
    "hide_input": false
   },
   "outputs": [],
   "source": [
    "sns.heatmap(h2[['sales', 'competition_distance']].corr(method='pearson'), annot=True);"
   ]
  },
  {
   "cell_type": "code",
   "execution_count": null,
   "id": "8e00848c",
   "metadata": {
    "ExecuteTime": {
     "end_time": "2023-03-29T12:02:53.498556Z",
     "start_time": "2023-03-29T12:02:53.498556Z"
    },
    "hide_input": true
   },
   "outputs": [],
   "source": [
    "plt.subplot(1, 2, 1)\n",
    "sns.scatterplot(x='competition_distance', y='sales', data=df_h2)\n",
    "\n",
    "plt.subplot(1, 2, 2)\n",
    "corr = df_h2[['competition_distance', 'sales']]\n",
    "corr = corr.corr()\n",
    "sns.heatmap(corr, annot=True);"
   ]
  },
  {
   "cell_type": "code",
   "execution_count": null,
   "id": "35ec6cbb",
   "metadata": {},
   "outputs": [],
   "source": []
  },
  {
   "cell_type": "markdown",
   "id": "6077a7d2",
   "metadata": {},
   "source": [
    "### H3. Lojas com competidores à mais tempo deveriam vendem mais.\n",
    "\n",
    "- ***FALSA:*** Lojas com competidores a mais tempo vendem menos, a venda é maior quanto mais recente é a competição\n"
   ]
  },
  {
   "cell_type": "code",
   "execution_count": null,
   "id": "537baf27",
   "metadata": {
    "ExecuteTime": {
     "end_time": "2023-03-29T19:27:32.116999Z",
     "start_time": "2023-03-29T19:27:23.340293Z"
    }
   },
   "outputs": [],
   "source": [
    "h3 = df4[['competition_time_month', 'sales']].groupby('competition_time_month').sum().reset_index()\n",
    "h3_1 = h3[(h3['competition_time_month'] < 120) & (h3['competition_time_month'] != 0)]\n",
    "sns.barplot(data=h3_1, x='competition_time_month', y='sales')\n",
    "plt.xticks(rotation=90);"
   ]
  },
  {
   "cell_type": "code",
   "execution_count": null,
   "id": "c52a7d6b",
   "metadata": {
    "ExecuteTime": {
     "end_time": "2023-03-29T19:29:18.057170Z",
     "start_time": "2023-03-29T19:29:15.673188Z"
    }
   },
   "outputs": [],
   "source": [
    "sns.regplot(data=h3_1, x='competition_time_month', y='sales')\n",
    "plt.xticks(rotation=90);"
   ]
  },
  {
   "cell_type": "code",
   "execution_count": null,
   "id": "f0d8636d",
   "metadata": {
    "ExecuteTime": {
     "end_time": "2023-03-29T19:31:50.912849Z",
     "start_time": "2023-03-29T19:31:49.544695Z"
    }
   },
   "outputs": [],
   "source": [
    "sns.heatmap(h3[['competition_time_month', 'sales']].corr(method='pearson'), annot=True);"
   ]
  },
  {
   "cell_type": "code",
   "execution_count": null,
   "id": "e53053aa",
   "metadata": {},
   "outputs": [],
   "source": []
  },
  {
   "cell_type": "markdown",
   "id": "583ff25b",
   "metadata": {},
   "source": [
    "### H4. Lojas com promoções ativas por mais tempo deveriam vender mais.\n",
    "\n",
    "- ***FALSA:*** Lojas com promoções ativas a mais tempo, vendem menos, após certo período de promoção.\n"
   ]
  },
  {
   "cell_type": "code",
   "execution_count": null,
   "id": "4767c485",
   "metadata": {
    "ExecuteTime": {
     "end_time": "2023-03-29T19:36:41.206153Z",
     "start_time": "2023-03-29T19:36:41.073524Z"
    }
   },
   "outputs": [],
   "source": [
    "df4.columns"
   ]
  },
  {
   "cell_type": "code",
   "execution_count": 130,
   "id": "29ee929c",
   "metadata": {
    "ExecuteTime": {
     "end_time": "2023-03-29T19:57:22.676210Z",
     "start_time": "2023-03-29T19:57:06.783649Z"
    }
   },
   "outputs": [
    {
     "data": {
      "image/png": "[encoded data removed]",
      "text/plain": [
       "<Figure size 1170x827 with 4 Axes>"
      ]
     },
     "metadata": {},
     "output_type": "display_data"
    }
   ],
   "source": [
    "h4 = df4[['promo_time_week', 'sales']].groupby('promo_time_week').sum().reset_index()\n",
    "\n",
    "plt.subplot(2, 2, 1)\n",
    "h4_2 = h4[h4['promo_time_week'] < 0]\n",
    "sns.barplot(data = h4_2, x='promo_time_week', y='sales')\n",
    "\n",
    "plt.subplot(2, 2, 2)\n",
    "sns.regplot(data = h4_2, x='promo_time_week', y='sales')\n",
    "\n",
    "plt.subplot(2, 2, 3)\n",
    "h4_3 = h4[h4['promo_time_week'] > 0]\n",
    "sns.barplot(data = h4_3, x='promo_time_week', y='sales')\n",
    "\n",
    "\n",
    "plt.subplot(2, 2, 4)\n",
    "sns.regplot(data = h4_3, y= 'promo_time_week', x='sales');"
   ]
  },
  {
   "cell_type": "code",
   "execution_count": 133,
   "id": "44d5cdb9",
   "metadata": {
    "ExecuteTime": {
     "end_time": "2023-03-29T20:00:53.702299Z",
     "start_time": "2023-03-29T20:00:52.532260Z"
    }
   },
   "outputs": [
    {
     "data": {
      "image/png": "[encoded data removed]",
      "text/plain": [
       "<Figure size 1170x827 with 2 Axes>"
      ]
     },
     "metadata": {},
     "output_type": "display_data"
    }
   ],
   "source": [
    "sns.heatmap(h4[['promo_time_week', 'sales']].corr(method='pearson'), annot=True);"
   ]
  },
  {
   "cell_type": "code",
   "execution_count": null,
   "id": "a96bc13f",
   "metadata": {},
   "outputs": [],
   "source": []
  },
  {
   "cell_type": "markdown",
   "id": "695d84c5",
   "metadata": {
    "ExecuteTime": {
     "end_time": "2023-03-28T10:47:40.430312Z",
     "start_time": "2023-03-28T10:47:40.418702Z"
    }
   },
   "source": [
    "### H5. Lojas com mais dias de promoção deveriam vender mais.\n"
   ]
  },
  {
   "cell_type": "code",
   "execution_count": null,
   "id": "f9bf45fe",
   "metadata": {},
   "outputs": [],
   "source": []
  },
  {
   "cell_type": "code",
   "execution_count": null,
   "id": "0efc2b34",
   "metadata": {},
   "outputs": [],
   "source": []
  },
  {
   "cell_type": "code",
   "execution_count": null,
   "id": "9944a1d9",
   "metadata": {},
   "outputs": [],
   "source": []
  },
  {
   "cell_type": "markdown",
   "id": "116a000b",
   "metadata": {},
   "source": [
    "### H6. Lojas com mais promoções consecutivas deveriam vender mais.\n"
   ]
  },
  {
   "cell_type": "code",
   "execution_count": null,
   "id": "ef2bf8ca",
   "metadata": {},
   "outputs": [],
   "source": []
  },
  {
   "cell_type": "code",
   "execution_count": null,
   "id": "9fcdcfe4",
   "metadata": {},
   "outputs": [],
   "source": []
  },
  {
   "cell_type": "code",
   "execution_count": null,
   "id": "c42c34ba",
   "metadata": {},
   "outputs": [],
   "source": []
  },
  {
   "cell_type": "markdown",
   "id": "59eeb205",
   "metadata": {},
   "source": [
    "### H7. Lojas abertas durante o feriado de Natal deveriam vender mais.\n"
   ]
  },
  {
   "cell_type": "code",
   "execution_count": null,
   "id": "390924cc",
   "metadata": {},
   "outputs": [],
   "source": []
  },
  {
   "cell_type": "code",
   "execution_count": null,
   "id": "b74c16b7",
   "metadata": {},
   "outputs": [],
   "source": []
  },
  {
   "cell_type": "code",
   "execution_count": null,
   "id": "6471be9e",
   "metadata": {},
   "outputs": [],
   "source": []
  },
  {
   "cell_type": "markdown",
   "id": "af5a3395",
   "metadata": {},
   "source": [
    "### H8. Lojas deveriam vender mais ao longo dos anos.\n"
   ]
  },
  {
   "cell_type": "code",
   "execution_count": null,
   "id": "876d79a7",
   "metadata": {},
   "outputs": [],
   "source": []
  },
  {
   "cell_type": "code",
   "execution_count": null,
   "id": "114b79f7",
   "metadata": {},
   "outputs": [],
   "source": []
  },
  {
   "cell_type": "code",
   "execution_count": null,
   "id": "3d3dd994",
   "metadata": {},
   "outputs": [],
   "source": []
  },
  {
   "cell_type": "markdown",
   "id": "02753176",
   "metadata": {},
   "source": [
    "### H9. Lojas deveriam vender mais no segundo semestre do ano.\n"
   ]
  },
  {
   "cell_type": "code",
   "execution_count": null,
   "id": "5b717c77",
   "metadata": {},
   "outputs": [],
   "source": []
  },
  {
   "cell_type": "code",
   "execution_count": null,
   "id": "784de31f",
   "metadata": {},
   "outputs": [],
   "source": []
  },
  {
   "cell_type": "code",
   "execution_count": null,
   "id": "08456f4e",
   "metadata": {},
   "outputs": [],
   "source": []
  },
  {
   "cell_type": "markdown",
   "id": "df6e5b26",
   "metadata": {},
   "source": [
    "### H10. Lojas deveriam vender mais depois do dia 10 de cada mês.\n"
   ]
  },
  {
   "cell_type": "code",
   "execution_count": null,
   "id": "30aa51d9",
   "metadata": {},
   "outputs": [],
   "source": []
  },
  {
   "cell_type": "code",
   "execution_count": null,
   "id": "7f66895c",
   "metadata": {},
   "outputs": [],
   "source": []
  },
  {
   "cell_type": "code",
   "execution_count": null,
   "id": "c95887d2",
   "metadata": {},
   "outputs": [],
   "source": []
  },
  {
   "cell_type": "markdown",
   "id": "17cbb006",
   "metadata": {},
   "source": [
    "### H11. Lojas deveriam vender menos aos finais de semana\n"
   ]
  },
  {
   "cell_type": "code",
   "execution_count": null,
   "id": "c602505d",
   "metadata": {},
   "outputs": [],
   "source": []
  },
  {
   "cell_type": "code",
   "execution_count": null,
   "id": "05fa8901",
   "metadata": {},
   "outputs": [],
   "source": []
  },
  {
   "cell_type": "code",
   "execution_count": null,
   "id": "6c7765cb",
   "metadata": {},
   "outputs": [],
   "source": []
  },
  {
   "cell_type": "markdown",
   "id": "362926e8",
   "metadata": {},
   "source": [
    "### H12. Lojas deveriam vender menos durante os feriados escolares"
   ]
  },
  {
   "cell_type": "code",
   "execution_count": null,
   "id": "520981e8",
   "metadata": {},
   "outputs": [],
   "source": []
  },
  {
   "cell_type": "code",
   "execution_count": null,
   "id": "1227fa68",
   "metadata": {},
   "outputs": [],
   "source": []
  },
  {
   "cell_type": "code",
   "execution_count": null,
   "id": "c7b551d1",
   "metadata": {},
   "outputs": [],
   "source": []
  },
  {
   "cell_type": "markdown",
   "id": "0ec1459a",
   "metadata": {},
   "source": [
    "## 4.3 Análise Multivariada"
   ]
  },
  {
   "cell_type": "code",
   "execution_count": null,
   "id": "c73c2db0",
   "metadata": {},
   "outputs": [],
   "source": []
  },
  {
   "cell_type": "code",
   "execution_count": null,
   "id": "c6ff2c51",
   "metadata": {},
   "outputs": [],
   "source": []
  },
  {
   "cell_type": "code",
   "execution_count": null,
   "id": "7ac918b4",
   "metadata": {},
   "outputs": [],
   "source": []
  }
 ],
 "metadata": {
  "kernelspec": {
   "display_name": "Python 3 (ipykernel)",
   "language": "python",
   "name": "python3"
  },
  "language_info": {
   "codemirror_mode": {
    "name": "ipython",
    "version": 3
   },
   "file_extension": ".py",
   "mimetype": "text/x-python",
   "name": "python",
   "nbconvert_exporter": "python",
   "pygments_lexer": "ipython3",
   "version": "3.9.16"
  },
  "varInspector": {
   "cols": {
    "lenName": 16,
    "lenType": 16,
    "lenVar": 40
   },
   "kernels_config": {
    "python": {
     "delete_cmd_postfix": "",
     "delete_cmd_prefix": "del ",
     "library": "var_list.py",
     "varRefreshCmd": "print(var_dic_list())"
    },
    "r": {
     "delete_cmd_postfix": ") ",
     "delete_cmd_prefix": "rm(",
     "library": "var_list.r",
     "varRefreshCmd": "cat(var_dic_list()) "
    }
   },
   "position": {
    "height": "144.45px",
    "left": "1094.4px",
    "right": "20px",
    "top": "120px",
    "width": "350px"
   },
   "types_to_exclude": [
    "module",
    "function",
    "builtin_function_or_method",
    "instance",
    "_Feature"
   ],
   "window_display": false
  }
 },
 "nbformat": 4,
 "nbformat_minor": 5
}
